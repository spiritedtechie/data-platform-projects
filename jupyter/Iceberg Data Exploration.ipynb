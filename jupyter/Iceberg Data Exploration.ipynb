{
 "cells": [
  {
   "cell_type": "code",
   "execution_count": 1,
   "id": "db8fa0ba-27f0-4875-bc45-dc9f28f9bc06",
   "metadata": {},
   "outputs": [
    {
     "name": "stdout",
     "output_type": "stream",
     "text": [
      "Spark Running\n",
      "+---+--------------+------------+----+--------+--------------+-----------+---------+--------------------+\n",
      "| id|          name|       price|__op| __table|__source_ts_ms|       __db|__deleted|         __source_ts|\n",
      "+---+--------------+------------+----+--------+--------------+-----------+---------+--------------------+\n",
      "|  1|          Book|{2, [02 6E]}|   d|products| 1695380454902|application|     true|2023-09-22 11:00:...|\n",
      "|  3|Remote Control|{2, [04 13]}|   d|products| 1695295333326|application|     true|2023-09-21 11:22:...|\n",
      "|  5|         Shoes|{2, [00 8F]}|   u|products| 1695380439311|application|    false|2023-09-22 11:00:...|\n",
      "|  2|         Chair|{2, [09 CD]}|   r|products| 1695288693878|application|    false|2023-09-21 09:31:...|\n",
      "|  3|Remote Control|{2, [04 13]}|   c|products| 1695380350829|application|    false|2023-09-22 10:59:...|\n",
      "+---+--------------+------------+----+--------+--------------+-----------+---------+--------------------+\n",
      "\n"
     ]
    }
   ],
   "source": [
    "import pyspark\n",
    "from pyspark.sql import SparkSession\n",
    "import os\n",
    "\n",
    "os.environ['AWS_REGION'] = \"eu-west-1\"\n",
    "conf = (\n",
    "    pyspark.SparkConf()\n",
    "        .setAppName('iceberg-data-explorer')\n",
    "        .set(\"spark.sql.catalog.rest\", \"org.apache.iceberg.spark.SparkCatalog\")\n",
    "        .set(\"spark.sql.catalog.rest.catalog-impl\", \"org.apache.iceberg.rest.RESTCatalog\")\n",
    "        .set(\"spark.sql.catalog.rest.io-impl\", \"org.apache.iceberg.aws.s3.S3FileIO\")\n",
    "        .set(\"spark.sql.catalog.rest.uri\", \"http://iceberg-catalog:8181/\")\n",
    "        .set(\"spark.sql.catalog.rest.s3.endpoint\", \"http://minio:9000\")\n",
    "        .set(\"spark.sql.catalog.rest.s3.path-style-access\", \"true\")\n",
    "        .set(\"spark.sql.defaultCatalog\", \"rest\")\n",
    ")\n",
    "\n",
    "## Start Spark Session\n",
    "spark = SparkSession.builder.config(conf=conf).getOrCreate()\n",
    "print(\"Spark Running\")\n",
    "\n",
    "spark.sql(\"SELECT * FROM iceberg.application_db_public_products\").show()"
   ]
  }
 ],
 "metadata": {
  "kernelspec": {
   "display_name": "Python 3 (ipykernel)",
   "language": "python",
   "name": "python3"
  },
  "language_info": {
   "codemirror_mode": {
    "name": "ipython",
    "version": 3
   },
   "file_extension": ".py",
   "mimetype": "text/x-python",
   "name": "python",
   "nbconvert_exporter": "python",
   "pygments_lexer": "ipython3",
   "version": "3.11.5"
  }
 },
 "nbformat": 4,
 "nbformat_minor": 5
}
