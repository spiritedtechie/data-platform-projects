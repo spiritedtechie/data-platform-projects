{
 "cells": [
  {
   "cell_type": "code",
   "execution_count": 11,
   "id": "778ba241-9f98-4957-b488-10412ff8f1c5",
   "metadata": {},
   "outputs": [
    {
     "name": "stdout",
     "output_type": "stream",
     "text": [
      "Spark Running\n"
     ]
    }
   ],
   "source": [
    "import pyspark\n",
    "from pyspark.sql import SparkSession\n",
    "import os\n",
    "\n",
    "os.environ['AWS_REGION'] = \"eu-west-1\"\n",
    "conf = (\n",
    "    pyspark.SparkConf()\n",
    "        .setAppName('iceberg-data-explorer')\n",
    "        .set(\"spark.sql.catalog.rest\", \"org.apache.iceberg.spark.SparkCatalog\")\n",
    "        .set(\"spark.sql.catalog.rest.catalog-impl\", \"org.apache.iceberg.rest.RESTCatalog\")\n",
    "        .set(\"spark.sql.catalog.rest.io-impl\", \"org.apache.iceberg.aws.s3.S3FileIO\")\n",
    "        .set(\"spark.sql.catalog.rest.uri\", \"http://iceberg-catalog:8181/\")\n",
    "        .set(\"spark.sql.catalog.rest.s3.endpoint\", \"http://minio:9000\")\n",
    "        .set(\"spark.sql.catalog.rest.s3.path-style-access\", \"true\")\n",
    "        .set(\"spark.sql.defaultCatalog\", \"rest\")\n",
    ")\n",
    "\n",
    "## Start Spark Session\n",
    "spark = SparkSession.builder.config(conf=conf).getOrCreate()\n",
    "print(\"Spark Running\")"
   ]
  },
  {
   "cell_type": "code",
   "execution_count": 12,
   "id": "1520d493-f934-407a-a1c2-fc6a4b69b2ff",
   "metadata": {},
   "outputs": [
    {
     "name": "stdout",
     "output_type": "stream",
     "text": [
      "+---+--------------+------------+----+--------+--------------+-----------+---------+--------------------+\n",
      "| id|          name|       price|__op| __table|__source_ts_ms|       __db|__deleted|         __source_ts|\n",
      "+---+--------------+------------+----+--------+--------------+-----------+---------+--------------------+\n",
      "|  5|         Shoes|{2, [00 8F]}|   u|products| 1695380439311|application|    false|2023-09-22 11:00:...|\n",
      "|  1|          Book|{2, [02 6E]}|   d|products| 1695380454902|application|     true|2023-09-22 11:00:...|\n",
      "|  3|Remote Control|{2, [04 13]}|   d|products| 1695295333326|application|     true|2023-09-21 11:22:...|\n",
      "|  2|         Chair|{2, [09 CD]}|   r|products| 1695288693878|application|    false|2023-09-21 09:31:...|\n",
      "|  3|Remote Control|{2, [04 13]}|   c|products| 1695380350829|application|    false|2023-09-22 10:59:...|\n",
      "+---+--------------+------------+----+--------+--------------+-----------+---------+--------------------+\n",
      "\n"
     ]
    }
   ],
   "source": [
    "spark.sql(\"SELECT * FROM iceberg.application_db_public_products\").show()"
   ]
  },
  {
   "cell_type": "code",
   "execution_count": 8,
   "id": "d7c3c3bb-83c4-4c32-b9b9-33f614cc811f",
   "metadata": {},
   "outputs": [
    {
     "data": {
      "text/plain": [
       "DataFrame[]"
      ]
     },
     "execution_count": 8,
     "metadata": {},
     "output_type": "execute_result"
    }
   ],
   "source": [
    "spark.sql(\"\"\"\n",
    "CREATE TABLE iceberg.order (\n",
    "    id bigint COMMENT 'unique id',\n",
    "    timestamp timestamp,\n",
    "    product_id bigint,\n",
    "    quantity bigint)\n",
    "USING iceberg\n",
    "PARTITIONED BY (bucket(16, id), days(timestamp))\n",
    "\"\"\"\n",
    ")"
   ]
  },
  {
   "cell_type": "code",
   "execution_count": 5,
   "id": "9077a19d-2aa7-4c70-b51b-51a7ca78ba84",
   "metadata": {},
   "outputs": [
    {
     "data": {
      "text/plain": [
       "DataFrame[]"
      ]
     },
     "execution_count": 5,
     "metadata": {},
     "output_type": "execute_result"
    }
   ],
   "source": [
    "spark.sql(\"\"\"\n",
    "DROP TABLE iceberg.order PURGE\n",
    "\"\"\")"
   ]
  },
  {
   "cell_type": "code",
   "execution_count": 17,
   "id": "b4bbdbb4-4dc6-43e7-885b-f91813a9f355",
   "metadata": {},
   "outputs": [
    {
     "data": {
      "text/plain": [
       "DataFrame[]"
      ]
     },
     "execution_count": 17,
     "metadata": {},
     "output_type": "execute_result"
    }
   ],
   "source": [
    "spark.sql(\"\"\"\n",
    "INSERT INTO iceberg.order VALUES \n",
    "(1, now(), 5, 10), \n",
    "(2, now(), 3, 24)\n",
    "\"\"\")"
   ]
  },
  {
   "cell_type": "code",
   "execution_count": 18,
   "id": "1ceb90bf-b9fe-4110-a9f5-4d5a790d90a8",
   "metadata": {},
   "outputs": [
    {
     "name": "stdout",
     "output_type": "stream",
     "text": [
      "+---+--------------------+----------+--------+\n",
      "| id|           timestamp|product_id|quantity|\n",
      "+---+--------------------+----------+--------+\n",
      "|  1|2023-09-22 11:54:...|         5|      10|\n",
      "|  2|2023-09-22 11:54:...|         3|      24|\n",
      "+---+--------------------+----------+--------+\n",
      "\n"
     ]
    }
   ],
   "source": [
    "spark.sql(\"SELECT * FROM iceberg.order\").show()"
   ]
  },
  {
   "cell_type": "code",
   "execution_count": 15,
   "id": "2b92b12a-c87f-4ca3-90a5-5918dd66251f",
   "metadata": {},
   "outputs": [
    {
     "data": {
      "text/plain": [
       "DataFrame[]"
      ]
     },
     "execution_count": 15,
     "metadata": {},
     "output_type": "execute_result"
    }
   ],
   "source": [
    "spark.sql(\"\"\"\n",
    "DELETE FROM iceberg.order\n",
    "WHERE id IN ('1', '2')\n",
    "\"\"\")"
   ]
  },
  {
   "cell_type": "code",
   "execution_count": 23,
   "id": "b8e1df01-b2c0-4ed4-a2e8-9998cef410b2",
   "metadata": {},
   "outputs": [
    {
     "name": "stdout",
     "output_type": "stream",
     "text": [
      "+--------------------+-------------------+-------------------+-------------------+\n",
      "|     made_current_at|        snapshot_id|          parent_id|is_current_ancestor|\n",
      "+--------------------+-------------------+-------------------+-------------------+\n",
      "|2023-09-22 11:52:...|7887498953345238229|               NULL|               true|\n",
      "|2023-09-22 11:52:...|1663266378830185026|7887498953345238229|               true|\n",
      "|2023-09-22 11:54:...|8445021180767544983|1663266378830185026|               true|\n",
      "|2023-09-22 11:54:...|3781607614289642584|8445021180767544983|               true|\n",
      "+--------------------+-------------------+-------------------+-------------------+\n",
      "\n",
      "+--------------------+--------------------+-------------------+----------------+----------------------+\n",
      "|           timestamp|                file| latest_snapshot_id|latest_schema_id|latest_sequence_number|\n",
      "+--------------------+--------------------+-------------------+----------------+----------------------+\n",
      "|2023-09-22 11:50:...|s3://warehouse/ic...|               NULL|            NULL|                  NULL|\n",
      "|2023-09-22 11:52:...|s3://warehouse/ic...|7887498953345238229|               0|                     0|\n",
      "|2023-09-22 11:52:...|s3://warehouse/ic...|1663266378830185026|               0|                     0|\n",
      "|2023-09-22 11:54:...|s3://warehouse/ic...|8445021180767544983|               0|                     0|\n",
      "|2023-09-22 12:01:...|s3://warehouse/ic...|3781607614289642584|               0|                     0|\n",
      "+--------------------+--------------------+-------------------+----------------+----------------------+\n",
      "\n"
     ]
    }
   ],
   "source": [
    "spark.sql(\"\"\"\n",
    "SELECT * FROM iceberg.order.history;\n",
    "\"\"\").show()\n",
    "\n",
    "spark.sql(\"\"\"\n",
    "SELECT * from iceberg.order.metadata_log_entries;\n",
    "\"\"\").show()"
   ]
  },
  {
   "cell_type": "code",
   "execution_count": 25,
   "id": "b535b330-c746-4853-9915-0ac299606bbc",
   "metadata": {},
   "outputs": [
    {
     "name": "stdout",
     "output_type": "stream",
     "text": [
      "+---+--------------------+----------+--------+---+--------------+------------+----+--------+--------------+-----------+---------+--------------------+\n",
      "| id|           timestamp|product_id|quantity| id|          name|       price|__op| __table|__source_ts_ms|       __db|__deleted|         __source_ts|\n",
      "+---+--------------------+----------+--------+---+--------------+------------+----+--------+--------------+-----------+---------+--------------------+\n",
      "|  1|2023-09-22 11:54:...|         5|      10|  5|         Shoes|{2, [00 8F]}|   u|products| 1695380439311|application|    false|2023-09-22 11:00:...|\n",
      "|  2|2023-09-22 11:54:...|         3|      24|  3|Remote Control|{2, [04 13]}|   c|products| 1695380350829|application|    false|2023-09-22 10:59:...|\n",
      "+---+--------------------+----------+--------+---+--------------+------------+----+--------+--------------+-----------+---------+--------------------+\n",
      "\n"
     ]
    }
   ],
   "source": [
    "spark.sql(\"\"\"\n",
    "SELECT * from iceberg.order o\n",
    "JOIN iceberg.application_db_public_products p\n",
    "  on o.product_id = p.id\n",
    "WHERE p.__deleted = false\n",
    "\"\"\").show()"
   ]
  },
  {
   "cell_type": "code",
   "execution_count": null,
   "id": "69e7efbc-b904-4740-a0f3-04d1957acd4c",
   "metadata": {},
   "outputs": [],
   "source": []
  }
 ],
 "metadata": {
  "kernelspec": {
   "display_name": "Python 3 (ipykernel)",
   "language": "python",
   "name": "python3"
  },
  "language_info": {
   "codemirror_mode": {
    "name": "ipython",
    "version": 3
   },
   "file_extension": ".py",
   "mimetype": "text/x-python",
   "name": "python",
   "nbconvert_exporter": "python",
   "pygments_lexer": "ipython3",
   "version": "3.11.5"
  }
 },
 "nbformat": 4,
 "nbformat_minor": 5
}
